{
 "cells": [
  {
   "cell_type": "markdown",
   "metadata": {},
   "source": [
    "# Muon Tracks in CMS - worked example  \n",
    "This is a worked example of the Coding Camp 2 activity. Analysis is based on [Natasha Holmes' weighted chi-sq](https://docs.google.com/document/d/1VP2fAFiVm1FqjqD4D-jRctjdIrMiSmBWAYw_cqBhxV0/edit?usp=sharing)."
   ]
  },
  {
   "cell_type": "markdown",
   "metadata": {},
   "source": [
    "## Problem  \n",
    "How does the magnetic field in CMS affect a muon's trajectory?  \n",
    "\n",
    "## Plan  \n",
    "Fit model functions to CMS tracker data for a muon and evaluate using weighted chi-sq.  \n",
    "\n",
    "## Data  \n",
    "For muon track 1, pt = 25 GeV, particle is a muon with q= -1. muon_track_1.csv has 3 rows of header info to ignore for analysis as a pandas dataframe. Data include x,y coordinates of the muon's trajectory but not z. The tracker has a spatial resolution on the order of 0.5 cm due to physical size of the hardware elements.  "
   ]
  },
  {
   "cell_type": "code",
   "execution_count": 1,
   "metadata": {},
   "outputs": [],
   "source": [
    "import pandas as pd\n",
    "import numpy as np\n",
    "import matplotlib.pyplot as plt\n",
    "from scipy.optimize import curve_fit"
   ]
  },
  {
   "cell_type": "code",
   "execution_count": 2,
   "metadata": {},
   "outputs": [
    {
     "data": {
      "text/html": [
       "<div>\n",
       "<style scoped>\n",
       "    .dataframe tbody tr th:only-of-type {\n",
       "        vertical-align: middle;\n",
       "    }\n",
       "\n",
       "    .dataframe tbody tr th {\n",
       "        vertical-align: top;\n",
       "    }\n",
       "\n",
       "    .dataframe thead th {\n",
       "        text-align: right;\n",
       "    }\n",
       "</style>\n",
       "<table border=\"1\" class=\"dataframe\">\n",
       "  <thead>\n",
       "    <tr style=\"text-align: right;\">\n",
       "      <th></th>\n",
       "      <th>x</th>\n",
       "      <th>y</th>\n",
       "    </tr>\n",
       "  </thead>\n",
       "  <tbody>\n",
       "    <tr>\n",
       "      <th>0</th>\n",
       "      <td>0.038726</td>\n",
       "      <td>-0.015958</td>\n",
       "    </tr>\n",
       "    <tr>\n",
       "      <th>1</th>\n",
       "      <td>0.131212</td>\n",
       "      <td>-0.055478</td>\n",
       "    </tr>\n",
       "    <tr>\n",
       "      <th>2</th>\n",
       "      <td>0.223866</td>\n",
       "      <td>-0.094564</td>\n",
       "    </tr>\n",
       "    <tr>\n",
       "      <th>3</th>\n",
       "      <td>0.316684</td>\n",
       "      <td>-0.133215</td>\n",
       "    </tr>\n",
       "    <tr>\n",
       "      <th>4</th>\n",
       "      <td>0.409664</td>\n",
       "      <td>-0.171429</td>\n",
       "    </tr>\n",
       "  </tbody>\n",
       "</table>\n",
       "</div>"
      ],
      "text/plain": [
       "          x         y\n",
       "0  0.038726 -0.015958\n",
       "1  0.131212 -0.055478\n",
       "2  0.223866 -0.094564\n",
       "3  0.316684 -0.133215\n",
       "4  0.409664 -0.171429"
      ]
     },
     "execution_count": 2,
     "metadata": {},
     "output_type": "execute_result"
    }
   ],
   "source": [
    "track = pd.read_csv('https://github.com/QuarkNet-HEP/coding-camp/raw/main/data/muon_track_1.csv', skiprows=2)\n",
    "track.head()"
   ]
  },
  {
   "cell_type": "markdown",
   "metadata": {},
   "source": [
    "## Analysis  \n",
    "Two model functions, one linear and one curved, are fit to the x,y tracker data. Applying classical mechanics to the muon, its path is expeted to curve in a circular arc due to the Lorentz force. The 'curved' model function is that of a circular arc with center a distance, r, fand in a direction, theta, from the origin. Following Holme's *Statistics Summary*, a weighted chi-sq is calculated for each model.  "
   ]
  },
  {
   "cell_type": "code",
   "execution_count": 3,
   "metadata": {},
   "outputs": [
    {
     "data": {
      "text/plain": [
       "array([-0.3862925 , -0.01158637])"
      ]
     },
     "execution_count": 3,
     "metadata": {},
     "output_type": "execute_result"
    }
   ],
   "source": [
    "# fit a linear model to a set of muon tracks in CMS\n",
    "\n",
    "def linear_model(x, m, b):   # x and y are track coordinates, scipy will optimize m & b to fit\n",
    "    y = m * x + b\n",
    "    return(y)\n",
    "\n",
    "popt, pcov = curve_fit(linear_model, track['x'], track['y'])\n",
    "linear_params = popt\n",
    "linear_params"
   ]
  },
  {
   "cell_type": "code",
   "execution_count": 4,
   "metadata": {},
   "outputs": [
    {
     "data": {
      "text/plain": [
       "array([38.32186923,  1.1738638 ])"
      ]
     },
     "execution_count": 4,
     "metadata": {},
     "output_type": "execute_result"
    }
   ],
   "source": [
    "# circular curvature using classical Lorentz force\n",
    "# for a circle with center at r, theta from the origin: y r*sin(theta)-sqrt(r^2-(x-r*cos(theta))^2)\n",
    "def curved_model(x, r, theta):   # x and y are track coordinates, scipy will optimize r & theta to fit\n",
    "    y = r*np.sin(theta)-np.sqrt(r**2-(x-r*np.cos(theta))**2)\n",
    "    return(y)\n",
    "\n",
    "popt, pcov = curve_fit(curved_model, track['x'], track['y'], p0=[30,1])\n",
    "curved_params = popt\n",
    "curved_params"
   ]
  },
  {
   "cell_type": "code",
   "execution_count": 5,
   "metadata": {},
   "outputs": [
    {
     "data": {
      "image/png": "[encoded data removed]",
      "text/plain": [
       "<Figure size 432x288 with 1 Axes>"
      ]
     },
     "metadata": {
      "needs_background": "light"
     },
     "output_type": "display_data"
    }
   ],
   "source": [
    "# compare the two models using chi-sq\n",
    "\n",
    "# plotting the original data and the optimized model (i.e., trendline)\n",
    "plt.scatter(track['x'], track['y'], label=\"data\", color='k')\n",
    "plt.plot(track['x'], linear_model(track['x'], linear_params[0], linear_params[1]), label=\"linear model\", color='pink')\n",
    "plt.plot(track['x'], curved_model(track['x'], curved_params[0], curved_params[1]), label=\"curved model\", color='darkorchid')\n",
    "plt.legend()\n",
    "plt.show()"
   ]
  },
  {
   "cell_type": "code",
   "execution_count": 6,
   "metadata": {},
   "outputs": [
    {
     "data": {
      "text/html": [
       "<div>\n",
       "<style scoped>\n",
       "    .dataframe tbody tr th:only-of-type {\n",
       "        vertical-align: middle;\n",
       "    }\n",
       "\n",
       "    .dataframe tbody tr th {\n",
       "        vertical-align: top;\n",
       "    }\n",
       "\n",
       "    .dataframe thead th {\n",
       "        text-align: right;\n",
       "    }\n",
       "</style>\n",
       "<table border=\"1\" class=\"dataframe\">\n",
       "  <thead>\n",
       "    <tr style=\"text-align: right;\">\n",
       "      <th></th>\n",
       "      <th>x</th>\n",
       "      <th>y</th>\n",
       "      <th>linear model yvals</th>\n",
       "      <th>curved model yvals</th>\n",
       "      <th>linear model residuals</th>\n",
       "      <th>curved model residuals</th>\n",
       "    </tr>\n",
       "  </thead>\n",
       "  <tbody>\n",
       "    <tr>\n",
       "      <th>0</th>\n",
       "      <td>0.038726</td>\n",
       "      <td>-0.015958</td>\n",
       "      <td>-0.026546</td>\n",
       "      <td>-0.016208</td>\n",
       "      <td>0.010588</td>\n",
       "      <td>0.000251</td>\n",
       "    </tr>\n",
       "    <tr>\n",
       "      <th>1</th>\n",
       "      <td>0.131212</td>\n",
       "      <td>-0.055478</td>\n",
       "      <td>-0.062273</td>\n",
       "      <td>-0.054716</td>\n",
       "      <td>0.006795</td>\n",
       "      <td>-0.000762</td>\n",
       "    </tr>\n",
       "    <tr>\n",
       "      <th>2</th>\n",
       "      <td>0.223866</td>\n",
       "      <td>-0.094564</td>\n",
       "      <td>-0.098064</td>\n",
       "      <td>-0.093009</td>\n",
       "      <td>0.003500</td>\n",
       "      <td>-0.001555</td>\n",
       "    </tr>\n",
       "    <tr>\n",
       "      <th>3</th>\n",
       "      <td>0.316684</td>\n",
       "      <td>-0.133215</td>\n",
       "      <td>-0.133919</td>\n",
       "      <td>-0.131086</td>\n",
       "      <td>0.000704</td>\n",
       "      <td>-0.002129</td>\n",
       "    </tr>\n",
       "    <tr>\n",
       "      <th>4</th>\n",
       "      <td>0.409664</td>\n",
       "      <td>-0.171429</td>\n",
       "      <td>-0.169837</td>\n",
       "      <td>-0.168946</td>\n",
       "      <td>-0.001592</td>\n",
       "      <td>-0.002483</td>\n",
       "    </tr>\n",
       "  </tbody>\n",
       "</table>\n",
       "</div>"
      ],
      "text/plain": [
       "          x         y  linear model yvals  curved model yvals  \\\n",
       "0  0.038726 -0.015958           -0.026546           -0.016208   \n",
       "1  0.131212 -0.055478           -0.062273           -0.054716   \n",
       "2  0.223866 -0.094564           -0.098064           -0.093009   \n",
       "3  0.316684 -0.133215           -0.133919           -0.131086   \n",
       "4  0.409664 -0.171429           -0.169837           -0.168946   \n",
       "\n",
       "   linear model residuals  curved model residuals  \n",
       "0                0.010588                0.000251  \n",
       "1                0.006795               -0.000762  \n",
       "2                0.003500               -0.001555  \n",
       "3                0.000704               -0.002129  \n",
       "4               -0.001592               -0.002483  "
      ]
     },
     "execution_count": 6,
     "metadata": {},
     "output_type": "execute_result"
    }
   ],
   "source": [
    "track['linear model yvals'] = linear_model(track['x'], linear_params[0], linear_params[1])\n",
    "track['curved model yvals'] = curved_model(track['x'], curved_params[0], curved_params[1])\n",
    "track['linear model residuals'] = track['y'] - track['linear model yvals']\n",
    "track['curved model residuals'] = track['y'] - track['curved model yvals']\n",
    "track.head()"
   ]
  },
  {
   "cell_type": "code",
   "execution_count": 7,
   "metadata": {},
   "outputs": [
    {
     "data": {
      "image/png": "[encoded data removed]",
      "text/plain": [
       "<Figure size 432x288 with 1 Axes>"
      ]
     },
     "metadata": {
      "needs_background": "light"
     },
     "output_type": "display_data"
    }
   ],
   "source": [
    "# plotting the residuals\n",
    "plt.plot(track['x'], track['linear model residuals'], color='pink', label=\"linear model\")\n",
    "plt.plot(track['x'], track['curved model residuals'], color='darkorchid', label=\"curved model\")\n",
    "plt.axhline(0, color='grey')\n",
    "plt.legend()\n",
    "plt.show()"
   ]
  },
  {
   "cell_type": "code",
   "execution_count": 8,
   "metadata": {},
   "outputs": [
    {
     "data": {
      "text/plain": [
       "0.744"
      ]
     },
     "execution_count": 8,
     "metadata": {},
     "output_type": "execute_result"
    }
   ],
   "source": [
    "unc = 0.005    # estimate of tracker uncertainty due to pixel and strip dimensions, in m\n",
    "linear_chisq = (track['linear model residuals']**2).sum() / (unc**2 * track['y'].count())\n",
    "np.round(linear_chisq,3)"
   ]
  },
  {
   "cell_type": "code",
   "execution_count": 9,
   "metadata": {},
   "outputs": [
    {
     "data": {
      "text/plain": [
       "0.203"
      ]
     },
     "execution_count": 9,
     "metadata": {},
     "output_type": "execute_result"
    }
   ],
   "source": [
    "curved_chisq = (track['curved model residuals']**2).sum() / (unc**2 * track['y'].count())\n",
    "np.round(curved_chisq,3)"
   ]
  },
  {
   "cell_type": "code",
   "execution_count": 10,
   "metadata": {},
   "outputs": [
    {
     "data": {
      "text/plain": [
       "array([38.32186923,  1.1738638 ])"
      ]
     },
     "execution_count": 10,
     "metadata": {},
     "output_type": "execute_result"
    }
   ],
   "source": [
    "curved_params   # [r , theta]"
   ]
  },
  {
   "cell_type": "code",
   "execution_count": 11,
   "metadata": {},
   "outputs": [
    {
     "data": {
      "text/plain": [
       "'2.86e+10'"
      ]
     },
     "execution_count": 11,
     "metadata": {},
     "output_type": "execute_result"
    }
   ],
   "source": [
    "# classically\n",
    "# F=qvB --> mv/r=qB --> r=mv/qB --> r=p/qB --> p=qrB\n",
    "q = 1 * 10**-19   # |q| = e\n",
    "B = 4              # CMS field strength inside the solenoid, in Telsa\n",
    "p = q * curved_params[0] * B   # p = qrB, in kg*m/s\n",
    "p = p / (5.36 * 10**-28)        # p, in eV/c\n",
    "np.format_float_scientific(p, precision=3) # p, in eV/c"
   ]
  },
  {
   "cell_type": "markdown",
   "metadata": {},
   "source": [
    "## Conclusion  \n",
    "As expected, the curved model has a smaller chi-sq indicating a better fit to the tracker data than the linear model. The optimized fit for the curved model gives a radius of 38.3 meters. Applying classical mechanics, that radius implies a transverse momentum for the muon of 28.6 GeV/c, similar to the given 25 GeV/c from the source data. The residaul plot has a definite structure, however, showing that neither model adequately caputures the physics driving the muon's trajectory, likely due to the muon's relativistic motion, the approximation that the motion was entirely in the transverse plane, or both. Further analysis with an appropriate 3D relativistic kinematic model is in order."
   ]
  }
 ],
 "metadata": {
  "kernelspec": {
   "display_name": "Python 2",
   "language": "python",
   "name": "python2"
  },
  "language_info": {
   "codemirror_mode": {
    "name": "ipython",
    "version": 2
   },
   "file_extension": ".py",
   "mimetype": "text/x-python",
   "name": "python",
   "nbconvert_exporter": "python",
   "pygments_lexer": "ipython2",
   "version": "2.7.14+"
  }
 },
 "nbformat": 4,
 "nbformat_minor": 5
}
