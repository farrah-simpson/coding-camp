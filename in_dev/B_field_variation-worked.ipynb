{
 "cells": [
  {
   "cell_type": "markdown",
   "metadata": {},
   "source": [
    "# B-Field Variation - Worked Example\n",
    "Does the magnetic field around your workspace have the same magnitude as outside? Perform an investigation to answer that and replace the ***pseudocode*** below with your own analysis of data you collect.\n",
    "\n",
    "Analysis based on [Natasha Holmes' t'](https://docs.google.com/document/d/1cjAfYwbG4IrwirHMPnvo87ZYdPTXBAWQAny4b1eVclE/edit?usp=sharing)."
   ]
  },
  {
   "cell_type": "code",
   "execution_count": 1,
   "metadata": {},
   "outputs": [],
   "source": [
    "# import modules needed\n",
    "import pandas as pd\n",
    "import numpy as np\n",
    "import matplotlib.pyplot as plt"
   ]
  },
  {
   "cell_type": "code",
   "execution_count": 2,
   "metadata": {},
   "outputs": [
    {
     "data": {
      "text/html": [
       "<div>\n",
       "<style scoped>\n",
       "    .dataframe tbody tr th:only-of-type {\n",
       "        vertical-align: middle;\n",
       "    }\n",
       "\n",
       "    .dataframe tbody tr th {\n",
       "        vertical-align: top;\n",
       "    }\n",
       "\n",
       "    .dataframe thead th {\n",
       "        text-align: right;\n",
       "    }\n",
       "</style>\n",
       "<table border=\"1\" class=\"dataframe\">\n",
       "  <thead>\n",
       "    <tr style=\"text-align: right;\">\n",
       "      <th></th>\n",
       "      <th>Time (s)</th>\n",
       "      <th>Magnetic Field x (µT)</th>\n",
       "      <th>Magnetic Field y (µT)</th>\n",
       "      <th>Magnetic Field z (µT)</th>\n",
       "      <th>Absolute field (µT)</th>\n",
       "    </tr>\n",
       "  </thead>\n",
       "  <tbody>\n",
       "    <tr>\n",
       "      <th>0</th>\n",
       "      <td>0.029331</td>\n",
       "      <td>-23.271011</td>\n",
       "      <td>-15.906281</td>\n",
       "      <td>-36.793800</td>\n",
       "      <td>46.350118</td>\n",
       "    </tr>\n",
       "    <tr>\n",
       "      <th>1</th>\n",
       "      <td>0.039346</td>\n",
       "      <td>-23.251556</td>\n",
       "      <td>-15.899689</td>\n",
       "      <td>-36.877266</td>\n",
       "      <td>46.404393</td>\n",
       "    </tr>\n",
       "    <tr>\n",
       "      <th>2</th>\n",
       "      <td>0.049361</td>\n",
       "      <td>-23.248703</td>\n",
       "      <td>-15.971283</td>\n",
       "      <td>-36.842331</td>\n",
       "      <td>46.399800</td>\n",
       "    </tr>\n",
       "    <tr>\n",
       "      <th>3</th>\n",
       "      <td>0.059376</td>\n",
       "      <td>-23.295670</td>\n",
       "      <td>-15.989258</td>\n",
       "      <td>-36.922569</td>\n",
       "      <td>46.493233</td>\n",
       "    </tr>\n",
       "    <tr>\n",
       "      <th>4</th>\n",
       "      <td>0.069390</td>\n",
       "      <td>-23.246887</td>\n",
       "      <td>-15.974823</td>\n",
       "      <td>-36.995743</td>\n",
       "      <td>46.522013</td>\n",
       "    </tr>\n",
       "  </tbody>\n",
       "</table>\n",
       "</div>"
      ],
      "text/plain": [
       "   Time (s)  Magnetic Field x (µT)  Magnetic Field y (µT)  \\\n",
       "0  0.029331             -23.271011             -15.906281   \n",
       "1  0.039346             -23.251556             -15.899689   \n",
       "2  0.049361             -23.248703             -15.971283   \n",
       "3  0.059376             -23.295670             -15.989258   \n",
       "4  0.069390             -23.246887             -15.974823   \n",
       "\n",
       "   Magnetic Field z (µT)  Absolute field (µT)  \n",
       "0             -36.793800            46.350118  \n",
       "1             -36.877266            46.404393  \n",
       "2             -36.842331            46.399800  \n",
       "3             -36.922569            46.493233  \n",
       "4             -36.995743            46.522013  "
      ]
     },
     "execution_count": 2,
     "metadata": {},
     "output_type": "execute_result"
    }
   ],
   "source": [
    "# read in data files\n",
    "inside = pd.read_csv('https://github.com/QuarkNet-HEP/coding-camp/raw/main/data/inside.csv')\n",
    "inside.head()"
   ]
  },
  {
   "cell_type": "code",
   "execution_count": 3,
   "metadata": {},
   "outputs": [
    {
     "data": {
      "text/plain": [
       "(269, 5)"
      ]
     },
     "execution_count": 3,
     "metadata": {},
     "output_type": "execute_result"
    }
   ],
   "source": [
    "inside.shape"
   ]
  },
  {
   "cell_type": "code",
   "execution_count": 4,
   "metadata": {},
   "outputs": [
    {
     "data": {
      "text/plain": [
       "(426, 5)"
      ]
     },
     "execution_count": 4,
     "metadata": {},
     "output_type": "execute_result"
    }
   ],
   "source": [
    "# read in data files\n",
    "outside = pd.read_csv('https://github.com/QuarkNet-HEP/coding-camp/raw/main/data/outside.csv')\n",
    "outside.shape"
   ]
  },
  {
   "cell_type": "code",
   "execution_count": 5,
   "metadata": {},
   "outputs": [
    {
     "data": {
      "text/html": [
       "<div>\n",
       "<style scoped>\n",
       "    .dataframe tbody tr th:only-of-type {\n",
       "        vertical-align: middle;\n",
       "    }\n",
       "\n",
       "    .dataframe tbody tr th {\n",
       "        vertical-align: top;\n",
       "    }\n",
       "\n",
       "    .dataframe thead th {\n",
       "        text-align: right;\n",
       "    }\n",
       "</style>\n",
       "<table border=\"1\" class=\"dataframe\">\n",
       "  <thead>\n",
       "    <tr style=\"text-align: right;\">\n",
       "      <th></th>\n",
       "      <th>Time (s)</th>\n",
       "      <th>Magnetic Field x (µT)</th>\n",
       "      <th>Magnetic Field y (µT)</th>\n",
       "      <th>Magnetic Field z (µT)</th>\n",
       "      <th>Absolute field (µT)</th>\n",
       "    </tr>\n",
       "  </thead>\n",
       "  <tbody>\n",
       "    <tr>\n",
       "      <th>count</th>\n",
       "      <td>269.000000</td>\n",
       "      <td>269.000000</td>\n",
       "      <td>269.000000</td>\n",
       "      <td>269.000000</td>\n",
       "      <td>269.000000</td>\n",
       "    </tr>\n",
       "    <tr>\n",
       "      <th>mean</th>\n",
       "      <td>1.371330</td>\n",
       "      <td>-23.174834</td>\n",
       "      <td>-15.665396</td>\n",
       "      <td>-36.663973</td>\n",
       "      <td>46.116815</td>\n",
       "    </tr>\n",
       "    <tr>\n",
       "      <th>std</th>\n",
       "      <td>0.779139</td>\n",
       "      <td>0.099672</td>\n",
       "      <td>0.176038</td>\n",
       "      <td>0.150317</td>\n",
       "      <td>0.165120</td>\n",
       "    </tr>\n",
       "    <tr>\n",
       "      <th>min</th>\n",
       "      <td>0.029331</td>\n",
       "      <td>-23.504959</td>\n",
       "      <td>-16.062042</td>\n",
       "      <td>-37.047340</td>\n",
       "      <td>45.714708</td>\n",
       "    </tr>\n",
       "    <tr>\n",
       "      <th>25%</th>\n",
       "      <td>0.700330</td>\n",
       "      <td>-23.238632</td>\n",
       "      <td>-15.768539</td>\n",
       "      <td>-36.767296</td>\n",
       "      <td>45.996087</td>\n",
       "    </tr>\n",
       "    <tr>\n",
       "      <th>50%</th>\n",
       "      <td>1.371329</td>\n",
       "      <td>-23.174301</td>\n",
       "      <td>-15.646362</td>\n",
       "      <td>-36.668472</td>\n",
       "      <td>46.120598</td>\n",
       "    </tr>\n",
       "    <tr>\n",
       "      <th>75%</th>\n",
       "      <td>2.042329</td>\n",
       "      <td>-23.106583</td>\n",
       "      <td>-15.542023</td>\n",
       "      <td>-36.566025</td>\n",
       "      <td>46.226865</td>\n",
       "    </tr>\n",
       "    <tr>\n",
       "      <th>max</th>\n",
       "      <td>2.713329</td>\n",
       "      <td>-22.884781</td>\n",
       "      <td>-15.251251</td>\n",
       "      <td>-36.259079</td>\n",
       "      <td>46.554957</td>\n",
       "    </tr>\n",
       "  </tbody>\n",
       "</table>\n",
       "</div>"
      ],
      "text/plain": [
       "         Time (s)  Magnetic Field x (µT)  Magnetic Field y (µT)  \\\n",
       "count  269.000000             269.000000             269.000000   \n",
       "mean     1.371330             -23.174834             -15.665396   \n",
       "std      0.779139               0.099672               0.176038   \n",
       "min      0.029331             -23.504959             -16.062042   \n",
       "25%      0.700330             -23.238632             -15.768539   \n",
       "50%      1.371329             -23.174301             -15.646362   \n",
       "75%      2.042329             -23.106583             -15.542023   \n",
       "max      2.713329             -22.884781             -15.251251   \n",
       "\n",
       "       Magnetic Field z (µT)  Absolute field (µT)  \n",
       "count             269.000000           269.000000  \n",
       "mean              -36.663973            46.116815  \n",
       "std                 0.150317             0.165120  \n",
       "min               -37.047340            45.714708  \n",
       "25%               -36.767296            45.996087  \n",
       "50%               -36.668472            46.120598  \n",
       "75%               -36.566025            46.226865  \n",
       "max               -36.259079            46.554957  "
      ]
     },
     "execution_count": 5,
     "metadata": {},
     "output_type": "execute_result"
    }
   ],
   "source": [
    "inside.describe()"
   ]
  },
  {
   "cell_type": "code",
   "execution_count": 6,
   "metadata": {},
   "outputs": [
    {
     "data": {
      "text/html": [
       "<div>\n",
       "<style scoped>\n",
       "    .dataframe tbody tr th:only-of-type {\n",
       "        vertical-align: middle;\n",
       "    }\n",
       "\n",
       "    .dataframe tbody tr th {\n",
       "        vertical-align: top;\n",
       "    }\n",
       "\n",
       "    .dataframe thead th {\n",
       "        text-align: right;\n",
       "    }\n",
       "</style>\n",
       "<table border=\"1\" class=\"dataframe\">\n",
       "  <thead>\n",
       "    <tr style=\"text-align: right;\">\n",
       "      <th></th>\n",
       "      <th>Time (s)</th>\n",
       "      <th>Magnetic Field x (µT)</th>\n",
       "      <th>Magnetic Field y (µT)</th>\n",
       "      <th>Magnetic Field z (µT)</th>\n",
       "      <th>Absolute field (µT)</th>\n",
       "    </tr>\n",
       "  </thead>\n",
       "  <tbody>\n",
       "    <tr>\n",
       "      <th>count</th>\n",
       "      <td>426.000000</td>\n",
       "      <td>426.000000</td>\n",
       "      <td>426.000000</td>\n",
       "      <td>426.000000</td>\n",
       "      <td>426.000000</td>\n",
       "    </tr>\n",
       "    <tr>\n",
       "      <th>mean</th>\n",
       "      <td>2.146227</td>\n",
       "      <td>-23.516595</td>\n",
       "      <td>-9.382197</td>\n",
       "      <td>-36.832433</td>\n",
       "      <td>44.697213</td>\n",
       "    </tr>\n",
       "    <tr>\n",
       "      <th>std</th>\n",
       "      <td>1.233057</td>\n",
       "      <td>0.164929</td>\n",
       "      <td>0.342086</td>\n",
       "      <td>0.185716</td>\n",
       "      <td>0.146441</td>\n",
       "    </tr>\n",
       "    <tr>\n",
       "      <th>min</th>\n",
       "      <td>0.018019</td>\n",
       "      <td>-24.004211</td>\n",
       "      <td>-10.088837</td>\n",
       "      <td>-37.343826</td>\n",
       "      <td>44.277130</td>\n",
       "    </tr>\n",
       "    <tr>\n",
       "      <th>25%</th>\n",
       "      <td>1.082124</td>\n",
       "      <td>-23.621788</td>\n",
       "      <td>-9.711029</td>\n",
       "      <td>-36.964819</td>\n",
       "      <td>44.602293</td>\n",
       "    </tr>\n",
       "    <tr>\n",
       "      <th>50%</th>\n",
       "      <td>2.146227</td>\n",
       "      <td>-23.500366</td>\n",
       "      <td>-9.320625</td>\n",
       "      <td>-36.852119</td>\n",
       "      <td>44.708492</td>\n",
       "    </tr>\n",
       "    <tr>\n",
       "      <th>75%</th>\n",
       "      <td>3.210331</td>\n",
       "      <td>-23.395000</td>\n",
       "      <td>-9.075703</td>\n",
       "      <td>-36.712832</td>\n",
       "      <td>44.798842</td>\n",
       "    </tr>\n",
       "    <tr>\n",
       "      <th>max</th>\n",
       "      <td>4.274435</td>\n",
       "      <td>-23.143875</td>\n",
       "      <td>-8.768082</td>\n",
       "      <td>-36.310555</td>\n",
       "      <td>45.074549</td>\n",
       "    </tr>\n",
       "  </tbody>\n",
       "</table>\n",
       "</div>"
      ],
      "text/plain": [
       "         Time (s)  Magnetic Field x (µT)  Magnetic Field y (µT)  \\\n",
       "count  426.000000             426.000000             426.000000   \n",
       "mean     2.146227             -23.516595              -9.382197   \n",
       "std      1.233057               0.164929               0.342086   \n",
       "min      0.018019             -24.004211             -10.088837   \n",
       "25%      1.082124             -23.621788              -9.711029   \n",
       "50%      2.146227             -23.500366              -9.320625   \n",
       "75%      3.210331             -23.395000              -9.075703   \n",
       "max      4.274435             -23.143875              -8.768082   \n",
       "\n",
       "       Magnetic Field z (µT)  Absolute field (µT)  \n",
       "count             426.000000           426.000000  \n",
       "mean              -36.832433            44.697213  \n",
       "std                 0.185716             0.146441  \n",
       "min               -37.343826            44.277130  \n",
       "25%               -36.964819            44.602293  \n",
       "50%               -36.852119            44.708492  \n",
       "75%               -36.712832            44.798842  \n",
       "max               -36.310555            45.074549  "
      ]
     },
     "execution_count": 6,
     "metadata": {},
     "output_type": "execute_result"
    }
   ],
   "source": [
    "outside.describe()"
   ]
  },
  {
   "cell_type": "code",
   "execution_count": 7,
   "metadata": {},
   "outputs": [
    {
     "data": {
      "text/plain": [
       "115.26024036396795"
      ]
     },
     "execution_count": 7,
     "metadata": {},
     "output_type": "execute_result"
    }
   ],
   "source": [
    "# caluclate a Holmes t' to compare the two samples\n",
    "inside_mean = inside['Absolute field (µT)'].mean()\n",
    "outside_mean = outside['Absolute field (µT)'].mean()\n",
    "inside_unc = inside['Absolute field (µT)'].std() / np.sqrt(inside['Absolute field (µT)'].count())\n",
    "outside_unc = outside['Absolute field (µT)'].std() / np.sqrt(outside['Absolute field (µT)'].count())\n",
    "combined_unc = np.sqrt(inside_unc**2 + outside_unc**2)\n",
    "\n",
    "t_prime = np.abs(inside_mean - outside_mean) / combined_unc\n",
    "t_prime"
   ]
  },
  {
   "cell_type": "code",
   "execution_count": 8,
   "metadata": {},
   "outputs": [
    {
     "data": {
      "image/png": "[encoded data removed]",
      "text/plain": [
       "<Figure size 432x288 with 1 Axes>"
      ]
     },
     "metadata": {
      "needs_background": "light"
     },
     "output_type": "display_data"
    }
   ],
   "source": [
    "# the values that get plotted\n",
    "x_values = [\"inside\", \"outside\"]\n",
    "y_values = [inside_mean, outside_mean]\n",
    "errorbars = [2*inside_unc, 2*outside_unc]   # state what your errorbars represent; 2x unc. is common\n",
    "\n",
    "# make the plot\n",
    "fig, ax = plt.subplots()\n",
    "ax.scatter(x_values, y_values, label=\"t' = \" + str(np.round(t_prime,2)))\n",
    "ax.errorbar(x_values, y_values, yerr=errorbars, ecolor='black', capsize=10, fmt='o', label=\"2*std_unc\")\n",
    "ax.set_title(\"There's a stronger magnetic field inside my house than outside!\")\n",
    "ax.set_xlabel(\"location\")\n",
    "ax.set_ylabel(\"magnetic field (uT)\")\n",
    "ax.legend()\n",
    "plt.show()"
   ]
  },
  {
   "cell_type": "code",
   "execution_count": 9,
   "metadata": {},
   "outputs": [
    {
     "data": {
      "image/png": "[encoded data removed]",
      "text/plain": [
       "<Figure size 432x288 with 1 Axes>"
      ]
     },
     "metadata": {
      "needs_background": "light"
     },
     "output_type": "display_data"
    }
   ],
   "source": [
    "# make a histogram\n",
    "fig, ax = plt.subplots()\n",
    "ax.hist(outside['Absolute field (µT)'], color='purple', label=\"outside\")\n",
    "ax.hist(inside['Absolute field (µT)'], color='pink', label=\"inside\")\n",
    "ax.set_title(\"There's a stronger magnetic field inside my house than outside!\")\n",
    "ax.set_xlabel(\"magnetic field (uT)\")\n",
    "ax.set_ylabel(\"number of measurements\")\n",
    "ax.legend()\n",
    "plt.show()"
   ]
  },
  {
   "cell_type": "code",
   "execution_count": 10,
   "metadata": {},
   "outputs": [],
   "source": [
    "# answer the research question in claim-evidence-reasoning style"
   ]
  },
  {
   "cell_type": "markdown",
   "metadata": {},
   "source": [
    "The magnitude of the ambient magnetic field inside my house (mean = 46.1 uT, n = 269) appears to be larger than the field outside (mean = 44.7 uT, n = 426). Since the t' value is much larger than 3 (t' = 115.3), this strongly suggests this difference is more than can be attributed to the uncertainities in the measurements."
   ]
  }
 ],
 "metadata": {
  "kernelspec": {
   "display_name": "Python 3 (ipykernel)",
   "language": "python",
   "name": "python3"
  },
  "language_info": {
   "codemirror_mode": {
    "name": "ipython",
    "version": 3
   },
   "file_extension": ".py",
   "mimetype": "text/x-python",
   "name": "python",
   "nbconvert_exporter": "python",
   "pygments_lexer": "ipython3",
   "version": "3.9.7"
  }
 },
 "nbformat": 4,
 "nbformat_minor": 4
}
