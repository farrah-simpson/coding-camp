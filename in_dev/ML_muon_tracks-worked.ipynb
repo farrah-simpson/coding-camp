{
 "cells": [
  {
   "cell_type": "markdown",
   "metadata": {},
   "source": [
    "# Introduction to Machine Learning using Muon Tracks in CMS - worked example  \n",
    "This is a worked example of the Coding Camp 2 activity. Analysis is based on [Natasha Holmes' weighted chi-sq](https://docs.google.com/document/d/1VP2fAFiVm1FqjqD4D-jRctjdIrMiSmBWAYw_cqBhxV0/edit?usp=sharing) and Chapter 4 of 'Hands-on Machine Learning with Scikit-Learn, Keras & TensorFlow' by O'Reilly."
   ]
  },
  {
   "cell_type": "markdown",
   "metadata": {},
   "source": [
    "## Problem  \n",
    "Can we use machine learning to improve our fitting techniques?  \n",
    "\n",
    "## Plan  \n",
    "Use machine learning regression techniques to fit model functions to CMS tracker data for a muon. This is based on the Muon Tracks activity with machine learning application.\n",
    "\n",
    "## Data  \n",
    "For muon track 1, pt = 25 GeV, particle is a muon with q= -1. muon_track_1.csv has 3 rows of header info to ignore for analysis as a pandas dataframe. Data include x,y coordinates of the muon's trajectory but not z. The tracker has a spatial resolution on the order of 0.5 cm due to physical size of the hardware elements.  "
   ]
  },
  {
   "cell_type": "code",
   "execution_count": 63,
   "metadata": {},
   "outputs": [],
   "source": [
    "import pandas as pd\n",
    "import numpy as np\n",
    "import matplotlib.pyplot as plt\n",
    "import sklearn\n",
    "from scipy.optimize import curve_fit"
   ]
  },
  {
   "cell_type": "code",
   "execution_count": 64,
   "metadata": {},
   "outputs": [
    {
     "data": {
      "text/html": [
       "<div>\n",
       "<style scoped>\n",
       "    .dataframe tbody tr th:only-of-type {\n",
       "        vertical-align: middle;\n",
       "    }\n",
       "\n",
       "    .dataframe tbody tr th {\n",
       "        vertical-align: top;\n",
       "    }\n",
       "\n",
       "    .dataframe thead th {\n",
       "        text-align: right;\n",
       "    }\n",
       "</style>\n",
       "<table border=\"1\" class=\"dataframe\">\n",
       "  <thead>\n",
       "    <tr style=\"text-align: right;\">\n",
       "      <th></th>\n",
       "      <th>x</th>\n",
       "      <th>y</th>\n",
       "    </tr>\n",
       "  </thead>\n",
       "  <tbody>\n",
       "    <tr>\n",
       "      <th>0</th>\n",
       "      <td>0.038726</td>\n",
       "      <td>-0.015958</td>\n",
       "    </tr>\n",
       "    <tr>\n",
       "      <th>1</th>\n",
       "      <td>0.131212</td>\n",
       "      <td>-0.055478</td>\n",
       "    </tr>\n",
       "    <tr>\n",
       "      <th>2</th>\n",
       "      <td>0.223866</td>\n",
       "      <td>-0.094564</td>\n",
       "    </tr>\n",
       "    <tr>\n",
       "      <th>3</th>\n",
       "      <td>0.316684</td>\n",
       "      <td>-0.133215</td>\n",
       "    </tr>\n",
       "    <tr>\n",
       "      <th>4</th>\n",
       "      <td>0.409664</td>\n",
       "      <td>-0.171429</td>\n",
       "    </tr>\n",
       "  </tbody>\n",
       "</table>\n",
       "</div>"
      ],
      "text/plain": [
       "          x         y\n",
       "0  0.038726 -0.015958\n",
       "1  0.131212 -0.055478\n",
       "2  0.223866 -0.094564\n",
       "3  0.316684 -0.133215\n",
       "4  0.409664 -0.171429"
      ]
     },
     "execution_count": 64,
     "metadata": {},
     "output_type": "execute_result"
    }
   ],
   "source": [
    "track = pd.read_csv('../data/muon_track_1.csv', skiprows=2)\n",
    "track.head()"
   ]
  },
  {
   "cell_type": "markdown",
   "metadata": {},
   "source": [
    "## Analysis  \n"
   ]
  },
  {
   "cell_type": "markdown",
   "metadata": {},
   "source": [
    "## Linear Regression\n",
    "\n",
    "We will use the function LinearRegression from the Scikit-Learn library to train a linear regression model. Training a model means setting its parameters so that the model best fits the training dataset using a performace measure. This is done by finding parameters in the model that minimizes the Root Mean Square Error or the Mean Square Error by minimizing the (cost) function. \n",
    "\n",
    "The LinearRegression class is based on [scipy.linalg.lstsq()](https://docs.scipy.org/doc/scipy/reference/generated/scipy.linalg.lstsq.html) function which calculates the least squares solution to an equation. You can see more details on the function and the format of the LinearRegression class [here.](https://scikit-learn.org/stable/modules/generated/sklearn.linear_model.LinearRegression.html)The array must be 2D so we will reshape the data before fitting.\n"
   ]
  },
  {
   "cell_type": "code",
   "execution_count": 65,
   "metadata": {},
   "outputs": [
    {
     "data": {
      "text/plain": [
       "(array([[-0.3862925]]), array([-0.01158637]))"
      ]
     },
     "execution_count": 65,
     "metadata": {},
     "output_type": "execute_result"
    }
   ],
   "source": [
    "# fit a linear model to a set of muon tracks in CMS using linear regression\n",
    "from sklearn.linear_model import LinearRegression\n",
    "\n",
    "X = track['x'].values.reshape(-1, 1)\n",
    "Y = track['y'].values.reshape(-1, 1)\n",
    "\n",
    "lin_reg = LinearRegression()\n",
    "lin_reg.fit(X,Y)\n",
    "\n",
    "#Print the model's coefficient and intercept\n",
    "regg_params = lin_reg.coef_, lin_reg.intercept_\n",
    "regg_params"
   ]
  },
  {
   "cell_type": "code",
   "execution_count": 66,
   "metadata": {},
   "outputs": [
    {
     "data": {
      "text/plain": [
       "array([[-0.01158637],\n",
       "       [-0.78417137]])"
      ]
     },
     "execution_count": 66,
     "metadata": {},
     "output_type": "execute_result"
    }
   ],
   "source": [
    "#Print the model's predictions for a new array X_new\n",
    "X_new = np.array([[0],[2]])\n",
    "lin_reg.predict(X_new)"
   ]
  },
  {
   "cell_type": "markdown",
   "metadata": {},
   "source": [
    "## Linear Model Fitting using Stochastic Gradient Descent\n",
    "\n",
    "Gradient Descent is a generic optimization algorithm capable of finding optimal solutions to a wide variety of problems by iteratively changing parameters to minimize a cost function. Gradient Descent measures the local gradient of the error function and goes in the direction of descending gradient. The size of the step is the learning rate. \n",
    "\n",
    "We will use SGDRegressor from the sklearn library to implement machine learning techniques to fit the linear model. SGD stands for Stochastic Gradient Descent: picks a random instance in the training set at every step and computes the gradients based only on that single instance. More details about the function can be found [here.](https://scikit-learn.org/stable/modules/generated/sklearn.linear_model.SGDRegressor.html)\n",
    "\n",
    "We will perform Linear Regression using SGD for maximum 1000 epochs (max_iter=1000) or until the loss drops by less than 1e-3 during one epoch (tol=1e-3), starting with a learning rate of 0.3 (eta0=0.3)."
   ]
  },
  {
   "cell_type": "code",
   "execution_count": 55,
   "metadata": {},
   "outputs": [
    {
     "data": {
      "text/plain": [
       "(array([-0.38488234]), array([-0.01331508]))"
      ]
     },
     "execution_count": 55,
     "metadata": {},
     "output_type": "execute_result"
    }
   ],
   "source": [
    "from sklearn.linear_model import SGDRegressor\n",
    "sgd_reg = SGDRegressor(max_iter=1000, tol=1e-3, eta0=1.1, random_state=42)\n",
    "sgd_reg.fit(X,Y.ravel())\n",
    "sgd_params = sgd_reg.coef_, sgd_reg.intercept_\n",
    "sgd_params"
   ]
  },
  {
   "cell_type": "markdown",
   "metadata": {},
   "source": [
    "The function that determines the learning rate at each iteration is called the learning schedule. If the learning rate is reduced too quickly, you may get stuck in a local minimum or even end up frozen before reaching the minimum. If the learning rate is reduced too slowly, you may jump around the minimum for a long time."
   ]
  },
  {
   "cell_type": "code",
   "execution_count": 67,
   "metadata": {},
   "outputs": [
    {
     "data": {
      "text/plain": [
       "(array([-0.2947676]), array([-0.12138168]))"
      ]
     },
     "execution_count": 67,
     "metadata": {},
     "output_type": "execute_result"
    }
   ],
   "source": [
    "#Decrease the learning rate to 0.1\n",
    "sgd1_reg = SGDRegressor(max_iter=1000, tol=1e-3, eta0=0.1, random_state=42)\n",
    "sgd1_reg.fit(X,Y.ravel())\n",
    "sgd1_params = sgd1_reg.coef_, sgd1_reg.intercept_\n",
    "sgd1_params"
   ]
  },
  {
   "cell_type": "code",
   "execution_count": 68,
   "metadata": {},
   "outputs": [
    {
     "data": {
      "text/plain": [
       "(array([7307743.39006013]), array([-25203458.77137183]))"
      ]
     },
     "execution_count": 68,
     "metadata": {},
     "output_type": "execute_result"
    }
   ],
   "source": [
    "#Increase the learning rate to 3\n",
    "sgd2_reg = SGDRegressor(max_iter=1000, tol=1e-3, eta0=3, random_state=42)\n",
    "sgd2_reg.fit(X,Y.ravel())\n",
    "sgd2_params = sgd2_reg.coef_, sgd2_reg.intercept_\n",
    "sgd2_params"
   ]
  },
  {
   "cell_type": "markdown",
   "metadata": {},
   "source": [
    "## Polynomial Regression\n",
    "We know that the path of a muon is not a simple straight line. We can use a linear model to fit nonlinear data by adding features to our variable X in order to use linear regression. We can now fit our data to a parabola by adding a second feature."
   ]
  },
  {
   "cell_type": "code",
   "execution_count": 69,
   "metadata": {},
   "outputs": [
    {
     "data": {
      "text/plain": [
       "(array([[-0.41220111,  0.01327689]]), array([-0.00323752]))"
      ]
     },
     "execution_count": 69,
     "metadata": {},
     "output_type": "execute_result"
    }
   ],
   "source": [
    "from sklearn.preprocessing import PolynomialFeatures\n",
    "from sklearn.preprocessing import StandardScaler\n",
    "from sklearn.pipeline import Pipeline\n",
    "\n",
    "poly_features = PolynomialFeatures(degree=2, include_bias=False)\n",
    "X_poly = poly_features.fit_transform(X)\n",
    "\n",
    "poly_reg = LinearRegression()\n",
    "poly_reg.fit(X_poly, Y)\n",
    "poly_regg_params = poly_reg.coef_, poly_reg.intercept_\n",
    "poly_regg_params"
   ]
  },
  {
   "cell_type": "code",
   "execution_count": 59,
   "metadata": {},
   "outputs": [
    {
     "data": {
      "image/png": "[encoded data removed]",
      "text/plain": [
       "<matplotlib.figure.Figure at 0x7f9e9762cdd0>"
      ]
     },
     "metadata": {},
     "output_type": "display_data"
    },
    {
     "data": {
      "text/html": [
       "<div>\n",
       "<style scoped>\n",
       "    .dataframe tbody tr th:only-of-type {\n",
       "        vertical-align: middle;\n",
       "    }\n",
       "\n",
       "    .dataframe tbody tr th {\n",
       "        vertical-align: top;\n",
       "    }\n",
       "\n",
       "    .dataframe thead th {\n",
       "        text-align: right;\n",
       "    }\n",
       "</style>\n",
       "<table border=\"1\" class=\"dataframe\">\n",
       "  <thead>\n",
       "    <tr style=\"text-align: right;\">\n",
       "      <th></th>\n",
       "      <th>x</th>\n",
       "      <th>y</th>\n",
       "      <th>linear regg model yvals</th>\n",
       "      <th>polynomial regg model yvals</th>\n",
       "      <th>linear regg model residuals</th>\n",
       "      <th>polynomial regg model residuals</th>\n",
       "    </tr>\n",
       "  </thead>\n",
       "  <tbody>\n",
       "    <tr>\n",
       "      <th>0</th>\n",
       "      <td>0.038726</td>\n",
       "      <td>-0.015958</td>\n",
       "      <td>-0.026546</td>\n",
       "      <td>-0.019181</td>\n",
       "      <td>0.010588</td>\n",
       "      <td>0.003223</td>\n",
       "    </tr>\n",
       "    <tr>\n",
       "      <th>1</th>\n",
       "      <td>0.131212</td>\n",
       "      <td>-0.055478</td>\n",
       "      <td>-0.062273</td>\n",
       "      <td>-0.057095</td>\n",
       "      <td>0.006795</td>\n",
       "      <td>0.001617</td>\n",
       "    </tr>\n",
       "    <tr>\n",
       "      <th>2</th>\n",
       "      <td>0.223866</td>\n",
       "      <td>-0.094564</td>\n",
       "      <td>-0.098064</td>\n",
       "      <td>-0.094850</td>\n",
       "      <td>0.003500</td>\n",
       "      <td>0.000286</td>\n",
       "    </tr>\n",
       "    <tr>\n",
       "      <th>3</th>\n",
       "      <td>0.316684</td>\n",
       "      <td>-0.133215</td>\n",
       "      <td>-0.133919</td>\n",
       "      <td>-0.132443</td>\n",
       "      <td>0.000704</td>\n",
       "      <td>-0.000772</td>\n",
       "    </tr>\n",
       "    <tr>\n",
       "      <th>4</th>\n",
       "      <td>0.409664</td>\n",
       "      <td>-0.171429</td>\n",
       "      <td>-0.169837</td>\n",
       "      <td>-0.169873</td>\n",
       "      <td>-0.001592</td>\n",
       "      <td>-0.001556</td>\n",
       "    </tr>\n",
       "  </tbody>\n",
       "</table>\n",
       "</div>"
      ],
      "text/plain": [
       "          x         y  linear regg model yvals  polynomial regg model yvals  \\\n",
       "0  0.038726 -0.015958                -0.026546                    -0.019181   \n",
       "1  0.131212 -0.055478                -0.062273                    -0.057095   \n",
       "2  0.223866 -0.094564                -0.098064                    -0.094850   \n",
       "3  0.316684 -0.133215                -0.133919                    -0.132443   \n",
       "4  0.409664 -0.171429                -0.169837                    -0.169873   \n",
       "\n",
       "   linear regg model residuals  polynomial regg model residuals  \n",
       "0                     0.010588                         0.003223  \n",
       "1                     0.006795                         0.001617  \n",
       "2                     0.003500                         0.000286  \n",
       "3                     0.000704                        -0.000772  \n",
       "4                    -0.001592                        -0.001556  "
      ]
     },
     "execution_count": 59,
     "metadata": {},
     "output_type": "execute_result"
    }
   ],
   "source": [
    "# compare the models using chi-sq\n",
    "\n",
    "# plotting the original data and the optimized model (i.e., trendline)\n",
    "plt.scatter(track['x'], track['y'], label=\"data\", color='k')\n",
    "plt.plot(track['x'], linear_model(track['x'], regg_params[0][0][0],regg_params[1][0]), label=\"linear regression\",color='red')\n",
    "plt.plot(track['x'], linear_model(track['x'], sgd_params[0],sgd_params[1]), label=\"SGD\",color='blue')\n",
    "plt.plot(track['x'], (poly_regg_params[0][0][1]*np.square(track['x']) + poly_regg_params[0][0][0]*track['x'] + poly_regg_params[1]), label=\"polynomial regg model\",color='black')\n",
    "\n",
    "\n",
    "plt.legend()\n",
    "plt.show()\n",
    "\n",
    "track['linear regg model yvals'] = linear_model(track['x'], regg_params[0][0][0],regg_params[1][0])\n",
    "track['polynomial regg model yvals'] = poly_regg_params[0][0][1]*np.square(track['x']) + poly_regg_params[0][0][0]*track['x'] + poly_regg_params[1][0]\n",
    "\n",
    "track['linear regg model residuals'] = track['y'] - track['linear regg model yvals']\n",
    "track['polynomial regg model residuals'] = track['y'] - track['polynomial regg model yvals']\n",
    "\n",
    "\n",
    "track.head()"
   ]
  },
  {
   "cell_type": "markdown",
   "metadata": {},
   "source": [
    "## Regularized Models\n",
    "\n",
    "So far we have trained models setting its parameters so that the model best fits the training set. If you perform a high-degree polynomial regression, you will fit the training data much better than the Linear Regression. However, fitting to a 300-degree polynomial data will cause the model to try to get as close to the data as possible, overfitting the training data, while the linear model is underfitting the training data. \n",
    "\n",
    "To reduce overfitting, we regularize or constain the model. For instance to regularize a polynomial model, you reduce the number of degrees it has. For a linear model, regularization is done by constraining the weights of the model. \n",
    "\n",
    "Ridge model solves a regression model where the loss function is the linear least squares function. It is a regularized version of Linear Regression. It adds a regularization term to the cost function. This forces the learning algorithm to keep the weights as small as possible during training. The hyperparameter (alpha) controls how much you want to regulatize the model. \n",
    "\n",
    "You can learn more about the model and Ridge Model in the sklearn library [here.](https://scikit-learn.org/stable/modules/generated/sklearn.linear_model.Ridge.html) \n",
    "\n",
    "We will fit the data to a ridge linear model and Sochastic Average Gradient descent (solver=\"sag\") to a second degree polynomial (degree=2)."
   ]
  },
  {
   "cell_type": "code",
   "execution_count": 70,
   "metadata": {},
   "outputs": [
    {
     "data": {
      "text/plain": [
       "array([[-0.20623531]])"
      ]
     },
     "execution_count": 70,
     "metadata": {},
     "output_type": "execute_result"
    }
   ],
   "source": [
    "from sklearn.linear_model import Ridge\n",
    "ridge_reg_sag = Ridge(alpha=1, solver=\"sag\")\n",
    "ridge_reg_sag = Pipeline([\n",
    "                    (\"poly_features\", PolynomialFeatures(degree=2, include_bias=False)),\n",
    "                    (\"std_scaler\", StandardScaler()),\n",
    "                    (\"regul_reg\", ridge_reg_sag),\n",
    "])\n",
    "ridge_reg_sag.fit(X,Y)\n",
    "\n",
    "#Use the Ridge Model to predict result for X = 0.5\n",
    "ridge_reg_sag.predict([[0.5]])"
   ]
  },
  {
   "cell_type": "markdown",
   "metadata": {},
   "source": [
    "Least Absolute Shrinkage and Selection Operator (Lasso) Regression is another regularized version of Linear Regression. We will now use the [Lasso model](https://scikit-learn.org/stable/modules/generated/sklearn.linear_model.Lasso.html) to fit our data and predict the result when X = 0.5\n",
    "\n",
    "Task: Fit a Lasso linear model with alpha=1. Check which value it predicts for X=[[0.5]]"
   ]
  },
  {
   "cell_type": "code",
   "execution_count": 71,
   "metadata": {},
   "outputs": [
    {
     "data": {
      "text/plain": [
       "array([-0.38755662])"
      ]
     },
     "execution_count": 71,
     "metadata": {},
     "output_type": "execute_result"
    }
   ],
   "source": [
    "#Use Lasso from sklearn.linear_model to predict the result for X = 0.5\n",
    "\n",
    "from sklearn.linear_model import Lasso\n",
    "\n",
    "Lasso_reg = Lasso(alpha=1)\n",
    "Lasso_reg.fit(X,Y)\n",
    "Lasso_reg.predict([[0.5]])"
   ]
  },
  {
   "cell_type": "markdown",
   "metadata": {},
   "source": [
    "## Conclusion  \n"
   ]
  },
  {
   "cell_type": "markdown",
   "metadata": {},
   "source": [
    "We have repeated the Muon Tracking exercise to perform a linear fit to the data. We improved our fitting techniques by using polynomial regression. We also introduced two new fitting techniques that use regularization to prevent overfitting our data: the Ridge Model and Lasso Model."
   ]
  }
 ],
 "metadata": {
  "kernelspec": {
   "display_name": "Python 2",
   "language": "python",
   "name": "python2"
  },
  "language_info": {
   "codemirror_mode": {
    "name": "ipython",
    "version": 2
   },
   "file_extension": ".py",
   "mimetype": "text/x-python",
   "name": "python",
   "nbconvert_exporter": "python",
   "pygments_lexer": "ipython2",
   "version": "2.7.14+"
  }
 },
 "nbformat": 4,
 "nbformat_minor": 5
}
