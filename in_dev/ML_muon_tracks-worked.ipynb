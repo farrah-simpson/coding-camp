{
 "cells": [
  {
   "cell_type": "markdown",
   "metadata": {},
   "source": [
    "# Introduction to Machine Learning using Muon Tracks in CMS - worked example  \n",
    "This is a worked example of the Coding Camp 2 activity. Analysis is based on [Natasha Holmes' weighted chi-sq](https://docs.google.com/document/d/1VP2fAFiVm1FqjqD4D-jRctjdIrMiSmBWAYw_cqBhxV0/edit?usp=sharing)"
   ]
  },
  {
   "cell_type": "markdown",
   "metadata": {},
   "source": [
    "## Problem  \n",
    "How does the magnetic field in CMS affect a muon's trajectory? Can we use machine learning to improve our fitting techniques?  \n",
    "\n",
    "## Plan  \n",
    "Use machine learning linear regression techniques to fit model functions to CMS tracker data for a muon and evaluate using weighted chi-sq. This is based on the Muon Tracks activity with machine learning application.\n",
    "\n",
    "## Data  \n",
    "For muon track 1, pt = 25 GeV, particle is a muon with q= -1. muon_track_1.csv has 3 rows of header info to ignore for analysis as a pandas dataframe. Data include x,y coordinates of the muon's trajectory but not z. The tracker has a spatial resolution on the order of 0.5 cm due to physical size of the hardware elements.  "
   ]
  },
  {
   "cell_type": "code",
   "execution_count": 34,
   "metadata": {},
   "outputs": [],
   "source": [
    "import pandas as pd\n",
    "import numpy as np\n",
    "import matplotlib.pyplot as plt\n",
    "import sklearn\n",
    "from scipy.optimize import curve_fit"
   ]
  },
  {
   "cell_type": "code",
   "execution_count": 35,
   "metadata": {},
   "outputs": [
    {
     "data": {
      "text/html": [
       "<div>\n",
       "<style scoped>\n",
       "    .dataframe tbody tr th:only-of-type {\n",
       "        vertical-align: middle;\n",
       "    }\n",
       "\n",
       "    .dataframe tbody tr th {\n",
       "        vertical-align: top;\n",
       "    }\n",
       "\n",
       "    .dataframe thead th {\n",
       "        text-align: right;\n",
       "    }\n",
       "</style>\n",
       "<table border=\"1\" class=\"dataframe\">\n",
       "  <thead>\n",
       "    <tr style=\"text-align: right;\">\n",
       "      <th></th>\n",
       "      <th>x</th>\n",
       "      <th>y</th>\n",
       "    </tr>\n",
       "  </thead>\n",
       "  <tbody>\n",
       "    <tr>\n",
       "      <th>0</th>\n",
       "      <td>0.038726</td>\n",
       "      <td>-0.015958</td>\n",
       "    </tr>\n",
       "    <tr>\n",
       "      <th>1</th>\n",
       "      <td>0.131212</td>\n",
       "      <td>-0.055478</td>\n",
       "    </tr>\n",
       "    <tr>\n",
       "      <th>2</th>\n",
       "      <td>0.223866</td>\n",
       "      <td>-0.094564</td>\n",
       "    </tr>\n",
       "    <tr>\n",
       "      <th>3</th>\n",
       "      <td>0.316684</td>\n",
       "      <td>-0.133215</td>\n",
       "    </tr>\n",
       "    <tr>\n",
       "      <th>4</th>\n",
       "      <td>0.409664</td>\n",
       "      <td>-0.171429</td>\n",
       "    </tr>\n",
       "  </tbody>\n",
       "</table>\n",
       "</div>"
      ],
      "text/plain": [
       "          x         y\n",
       "0  0.038726 -0.015958\n",
       "1  0.131212 -0.055478\n",
       "2  0.223866 -0.094564\n",
       "3  0.316684 -0.133215\n",
       "4  0.409664 -0.171429"
      ]
     },
     "execution_count": 35,
     "metadata": {},
     "output_type": "execute_result"
    }
   ],
   "source": [
    "track = pd.read_csv('../data/muon_track_1.csv', skiprows=2)\n",
    "track.head()"
   ]
  },
  {
   "cell_type": "markdown",
   "metadata": {},
   "source": [
    "## Analysis  \n"
   ]
  },
  {
   "cell_type": "code",
   "execution_count": 63,
   "metadata": {},
   "outputs": [
    {
     "data": {
      "text/plain": [
       "array([-0.3862925 , -0.01158637])"
      ]
     },
     "execution_count": 63,
     "metadata": {},
     "output_type": "execute_result"
    }
   ],
   "source": [
    "# fit a linear model to a set of muon tracks in CMS\n",
    "\n",
    "def linear_model(x, m, b):   # x and y are track coordinates, scipy will optimize m & b to fit\n",
    "    y = m * x + b\n",
    "    return(y)\n",
    "\n",
    "popt, pcov = curve_fit(linear_model, track['x'], track['y'])\n",
    "linear_params = popt\n",
    "linear_params"
   ]
  },
  {
   "cell_type": "markdown",
   "metadata": {},
   "source": [
    "## Linear Regression\n",
    "\n",
    "We will use the function LinearRegression from the sklearn library to fit a linear regression model. The array must be 2D so we will reshape the data before fitting. See more details on the function and the format of the input [here](https://scikit-learn.org/stable/modules/generated/sklearn.linear_model.LinearRegression.html)\n"
   ]
  },
  {
   "cell_type": "code",
   "execution_count": 79,
   "metadata": {},
   "outputs": [
    {
     "data": {
      "text/plain": [
       "(array([[-0.3862925]]), array([-0.01158637]))"
      ]
     },
     "execution_count": 79,
     "metadata": {},
     "output_type": "execute_result"
    }
   ],
   "source": [
    "# fit a linear model to a set of muon tracks in CMS\n",
    "from sklearn.linear_model import LinearRegression\n",
    "\n",
    "X = track['x'].values.reshape(-1, 1)\n",
    "Y = track['y'].values.reshape(-1, 1)\n",
    "\n",
    "lin_reg = LinearRegression()\n",
    "lin_reg.fit(X,Y)\n",
    "\n",
    "regg_params = lin_reg.coef_, lin_reg.intercept_\n",
    "regg_params"
   ]
  },
  {
   "cell_type": "markdown",
   "metadata": {},
   "source": [
    "## Linear Model Fitting using Stochastic Gradient Descent\n",
    "\n",
    "We will use SGDRegressor from the sklearn library to implement machine learning techniques (specifically Stochastic Gradient Descent) to fit the linear model. SGD stands for Stochastic Gradient Descent: the gradient of the loss is estimated each sample at a time and the model is updated along the way with a decreasing strength schedule (aka learning rate). More details about the function can be found [here](https://scikit-learn.org/stable/modules/generated/sklearn.linear_model.SGDRegressor.html)"
   ]
  },
  {
   "cell_type": "code",
   "execution_count": 145,
   "metadata": {},
   "outputs": [
    {
     "data": {
      "text/plain": [
       "(array([-0.38505106]), array([-0.01110425]))"
      ]
     },
     "execution_count": 145,
     "metadata": {},
     "output_type": "execute_result"
    }
   ],
   "source": [
    "from sklearn.linear_model import SGDRegressor\n",
    "sgd_reg = SGDRegressor(max_iter=1000, eta0=1.1, random_state=42)\n",
    "sgd_reg.fit(X,Y.ravel())\n",
    "sgd_params = sgd_reg.coef_, sgd_reg.intercept_\n",
    "sgd_params"
   ]
  },
  {
   "cell_type": "code",
   "execution_count": 146,
   "metadata": {},
   "outputs": [
    {
     "data": {
      "text/plain": [
       "array([38.3218896 ,  1.17386382])"
      ]
     },
     "execution_count": 146,
     "metadata": {},
     "output_type": "execute_result"
    }
   ],
   "source": [
    "# circular curvature using classical Lorentz force\n",
    "# for a circle with center at r, theta from the origin: y r*sin(theta)-sqrt(r^2-(x-r*cos(theta))^2)\n",
    "def curved_model(x, r, theta):   # x and y are track coordinates, scipy will optimize r & theta to fit\n",
    "    y = r*np.sin(theta)-np.sqrt(r**2-(x-r*np.cos(theta))**2)\n",
    "    return(y)\n",
    "\n",
    "popt, pcov = curve_fit(curved_model, track['x'], track['y'], p0=[30,1])\n",
    "curved_params = popt\n",
    "curved_params"
   ]
  },
  {
   "cell_type": "code",
   "execution_count": 147,
   "metadata": {},
   "outputs": [
    {
     "data": {
      "text/plain": [
       "(array([[-0.41220111,  0.01327689]]), array([-0.00323752]))"
      ]
     },
     "execution_count": 147,
     "metadata": {},
     "output_type": "execute_result"
    }
   ],
   "source": [
    "from sklearn.preprocessing import PolynomialFeatures\n",
    "from sklearn.preprocessing import StandardScaler\n",
    "from sklearn.pipeline import Pipeline\n",
    "\n",
    "poly_features = PolynomialFeatures(degree=2, include_bias=False)\n",
    "X_poly = poly_features.fit_transform(X)\n",
    "\n",
    "lin_reg = LinearRegression()\n",
    "lin_reg.fit(X_poly, Y)\n",
    "poly_regg_params = lin_reg.coef_, lin_reg.intercept_\n",
    "poly_regg_params"
   ]
  },
  {
   "cell_type": "code",
   "execution_count": null,
   "metadata": {},
   "outputs": [],
   "source": [
    "#Lasso\n",
    "#Ridge"
   ]
  },
  {
   "cell_type": "code",
   "execution_count": 140,
   "metadata": {},
   "outputs": [
    {
     "data": {
      "image/png": "[encoded data removed]",
      "text/plain": [
       "<matplotlib.figure.Figure at 0x7f7617b2b410>"
      ]
     },
     "metadata": {},
     "output_type": "display_data"
    },
    {
     "data": {
      "text/html": [
       "<div>\n",
       "<style scoped>\n",
       "    .dataframe tbody tr th:only-of-type {\n",
       "        vertical-align: middle;\n",
       "    }\n",
       "\n",
       "    .dataframe tbody tr th {\n",
       "        vertical-align: top;\n",
       "    }\n",
       "\n",
       "    .dataframe thead th {\n",
       "        text-align: right;\n",
       "    }\n",
       "</style>\n",
       "<table border=\"1\" class=\"dataframe\">\n",
       "  <thead>\n",
       "    <tr style=\"text-align: right;\">\n",
       "      <th></th>\n",
       "      <th>x</th>\n",
       "      <th>y</th>\n",
       "      <th>linear model yvals</th>\n",
       "      <th>curved model yvals</th>\n",
       "      <th>linear regg model yvals</th>\n",
       "      <th>linear model residuals</th>\n",
       "      <th>curved model residuals</th>\n",
       "      <th>linear regg model residuals</th>\n",
       "    </tr>\n",
       "  </thead>\n",
       "  <tbody>\n",
       "    <tr>\n",
       "      <th>0</th>\n",
       "      <td>0.038726</td>\n",
       "      <td>-0.015958</td>\n",
       "      <td>-0.026546</td>\n",
       "      <td>-0.016208</td>\n",
       "      <td>-0.026546</td>\n",
       "      <td>0.010588</td>\n",
       "      <td>0.000251</td>\n",
       "      <td>0.010588</td>\n",
       "    </tr>\n",
       "    <tr>\n",
       "      <th>1</th>\n",
       "      <td>0.131212</td>\n",
       "      <td>-0.055478</td>\n",
       "      <td>-0.062273</td>\n",
       "      <td>-0.054716</td>\n",
       "      <td>-0.062273</td>\n",
       "      <td>0.006795</td>\n",
       "      <td>-0.000762</td>\n",
       "      <td>0.006795</td>\n",
       "    </tr>\n",
       "    <tr>\n",
       "      <th>2</th>\n",
       "      <td>0.223866</td>\n",
       "      <td>-0.094564</td>\n",
       "      <td>-0.098064</td>\n",
       "      <td>-0.093009</td>\n",
       "      <td>-0.098064</td>\n",
       "      <td>0.003500</td>\n",
       "      <td>-0.001555</td>\n",
       "      <td>0.003500</td>\n",
       "    </tr>\n",
       "    <tr>\n",
       "      <th>3</th>\n",
       "      <td>0.316684</td>\n",
       "      <td>-0.133215</td>\n",
       "      <td>-0.133919</td>\n",
       "      <td>-0.131086</td>\n",
       "      <td>-0.133919</td>\n",
       "      <td>0.000704</td>\n",
       "      <td>-0.002129</td>\n",
       "      <td>0.000704</td>\n",
       "    </tr>\n",
       "    <tr>\n",
       "      <th>4</th>\n",
       "      <td>0.409664</td>\n",
       "      <td>-0.171429</td>\n",
       "      <td>-0.169837</td>\n",
       "      <td>-0.168946</td>\n",
       "      <td>-0.169837</td>\n",
       "      <td>-0.001592</td>\n",
       "      <td>-0.002483</td>\n",
       "      <td>-0.001592</td>\n",
       "    </tr>\n",
       "  </tbody>\n",
       "</table>\n",
       "</div>"
      ],
      "text/plain": [
       "          x         y  linear model yvals  curved model yvals  \\\n",
       "0  0.038726 -0.015958           -0.026546           -0.016208   \n",
       "1  0.131212 -0.055478           -0.062273           -0.054716   \n",
       "2  0.223866 -0.094564           -0.098064           -0.093009   \n",
       "3  0.316684 -0.133215           -0.133919           -0.131086   \n",
       "4  0.409664 -0.171429           -0.169837           -0.168946   \n",
       "\n",
       "   linear regg model yvals  linear model residuals  curved model residuals  \\\n",
       "0                -0.026546                0.010588                0.000251   \n",
       "1                -0.062273                0.006795               -0.000762   \n",
       "2                -0.098064                0.003500               -0.001555   \n",
       "3                -0.133919                0.000704               -0.002129   \n",
       "4                -0.169837               -0.001592               -0.002483   \n",
       "\n",
       "   linear regg model residuals  \n",
       "0                     0.010588  \n",
       "1                     0.006795  \n",
       "2                     0.003500  \n",
       "3                     0.000704  \n",
       "4                    -0.001592  "
      ]
     },
     "execution_count": 140,
     "metadata": {},
     "output_type": "execute_result"
    }
   ],
   "source": [
    "# compare the two models using chi-sq\n",
    "\n",
    "# plotting the original data and the optimized model (i.e., trendline)\n",
    "plt.scatter(track['x'], track['y'], label=\"data\", color='k')\n",
    "plt.plot(track['x'], linear_model(track['x'], linear_params[0], linear_params[1]), label=\"linear model\", color='pink')\n",
    "plt.plot(track['x'], linear_model(track['x'], regg_params[0][0][0],regg_params[1][0]), label=\"linear regression\",color='red')\n",
    "plt.plot(track['x'], linear_model(track['x'], sgd_params[0],sgd_params[1]), label=\"SGD\",color='blue')\n",
    "plt.plot(track['x'], curved_model(track['x'], curved_params[0], curved_params[1]), label=\"curved model\", color='darkorchid')\n",
    "#plt.plot(track['x'], (poly_regg_params[0][0][0]*track['x'] squared + poly_regg_params[0][0][1]*track['x'] + poly_regg_params[1]), label=\"curved regg model\")\n",
    "\n",
    "\n",
    "plt.legend()\n",
    "plt.show()\n",
    "\n",
    "track['linear model yvals'] = linear_model(track['x'], linear_params[0], linear_params[1])\n",
    "track['curved model yvals'] = curved_model(track['x'], curved_params[0], curved_params[1])\n",
    "track['linear regg model yvals'] = linear_model(track['x'], regg_params[0][0][0],regg_params[1][0])\n",
    "\n",
    "track['linear model residuals'] = track['y'] - track['linear model yvals']\n",
    "track['curved model residuals'] = track['y'] - track['curved model yvals']\n",
    "track['linear regg model residuals'] = track['y'] - track['linear regg model yvals']\n",
    "\n",
    "\n",
    "track.head()"
   ]
  },
  {
   "cell_type": "code",
   "execution_count": null,
   "metadata": {},
   "outputs": [],
   "source": []
  },
  {
   "cell_type": "markdown",
   "metadata": {},
   "source": [
    "## Conclusion  \n"
   ]
  },
  {
   "cell_type": "code",
   "execution_count": null,
   "metadata": {},
   "outputs": [],
   "source": []
  }
 ],
 "metadata": {
  "kernelspec": {
   "display_name": "Python 2",
   "language": "python",
   "name": "python2"
  },
  "language_info": {
   "codemirror_mode": {
    "name": "ipython",
    "version": 2
   },
   "file_extension": ".py",
   "mimetype": "text/x-python",
   "name": "python",
   "nbconvert_exporter": "python",
   "pygments_lexer": "ipython2",
   "version": "2.7.14+"
  }
 },
 "nbformat": 4,
 "nbformat_minor": 5
}
